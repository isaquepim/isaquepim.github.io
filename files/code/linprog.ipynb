{
 "cells": [
  {
   "cell_type": "code",
   "execution_count": 49,
   "metadata": {},
   "outputs": [],
   "source": [
    "import numpy as np\n",
    "from scipy.optimize import linprog\n",
    "from scipy.linalg import null_space"
   ]
  },
  {
   "cell_type": "code",
   "execution_count": 90,
   "metadata": {},
   "outputs": [
    {
     "name": "stdout",
     "output_type": "stream",
     "text": [
      "-0.9842430411410316\n",
      "[[-0.94268381]\n",
      " [-0.04155923]\n",
      " [-0.73482593]\n",
      " [-0.78081589]\n",
      " [ 0.75969756]\n",
      " [-0.47808346]\n",
      " [ 0.96102005]\n",
      " [-0.07015378]\n",
      " [ 0.53977609]\n",
      " [-0.25628195]\n",
      " [-0.92608232]\n",
      " [-0.15471512]\n",
      " [ 0.84011914]\n",
      " [ 0.24488506]\n",
      " [-0.00429011]\n",
      " [ 0.55015166]\n",
      " [ 0.61174909]\n",
      " [ 0.81826505]\n",
      " [ 0.78644963]\n",
      " [ 0.93132102]]\n"
     ]
    }
   ],
   "source": [
    "n = 20 # Number of lines\n",
    "p = 40 # Number of columns\n",
    "\n",
    "\n",
    "A = np.random.uniform(-10,10,(n,p)) \n",
    "\n",
    "b = np.random.uniform(-1,1,(n,1))\n",
    "#c = np.random.uniform(-1,1,(p,1))\n",
    "c = A[0,:] + A[1,:]\n",
    "\n",
    "bounds = [(None, None) for i in range(p)]\n",
    "\n",
    "\n",
    "res = linprog(c = c, A_eq = A, b_eq = b, bounds=bounds)\n",
    "print(res.fun)\n",
    "print(b)\n",
    "\n",
    "#null_space(A).shape"
   ]
  },
  {
   "cell_type": "code",
   "execution_count": 85,
   "metadata": {},
   "outputs": [
    {
     "data": {
      "text/plain": [
       "array([[-7.07106781e-01],\n",
       "       [-2.83120529e-16],\n",
       "       [ 7.07106781e-01]])"
      ]
     },
     "execution_count": 85,
     "metadata": {},
     "output_type": "execute_result"
    }
   ],
   "source": [
    "B = np.array([[1,2,1],[1,1,1]])\n",
    "null_space(B)"
   ]
  }
 ],
 "metadata": {
  "kernelspec": {
   "display_name": "base",
   "language": "python",
   "name": "python3"
  },
  "language_info": {
   "codemirror_mode": {
    "name": "ipython",
    "version": 3
   },
   "file_extension": ".py",
   "mimetype": "text/x-python",
   "name": "python",
   "nbconvert_exporter": "python",
   "pygments_lexer": "ipython3",
   "version": "3.9.13"
  },
  "orig_nbformat": 4
 },
 "nbformat": 4,
 "nbformat_minor": 2
}
